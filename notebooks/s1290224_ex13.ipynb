{
 "cells": [
  {
   "cell_type": "markdown",
   "id": "24ac1b26-be00-419a-b6d6-1a85120c4d78",
   "metadata": {},
   "source": [
    "### Task 1 a) reads the CSV file created in Exercise 9 as a data frame"
   ]
  },
  {
   "cell_type": "code",
   "execution_count": 4,
   "id": "c33c18c9-88c0-437f-879e-b6ebee3ec10f",
   "metadata": {},
   "outputs": [
    {
     "data": {
      "text/html": [
       "<div>\n",
       "<style scoped>\n",
       "    .dataframe tbody tr th:only-of-type {\n",
       "        vertical-align: middle;\n",
       "    }\n",
       "\n",
       "    .dataframe tbody tr th {\n",
       "        vertical-align: top;\n",
       "    }\n",
       "\n",
       "    .dataframe thead th {\n",
       "        text-align: right;\n",
       "    }\n",
       "</style>\n",
       "<table border=\"1\" class=\"dataframe\">\n",
       "  <thead>\n",
       "    <tr style=\"text-align: right;\">\n",
       "      <th></th>\n",
       "      <th>Timestamp</th>\n",
       "      <th>POINT(141.3532777 43.06225480000001)</th>\n",
       "      <th>POINT(141.3252375 43.0396273)</th>\n",
       "      <th>POINT(141.3532777 43.06225480000001).1</th>\n",
       "      <th>POINT(141.3445286 43.0409769)</th>\n",
       "      <th>POINT(141.3711567 43.1453261)</th>\n",
       "      <th>POINT(141.3331053 43.0820313)</th>\n",
       "      <th>POINT(141.3483898 43.0843826)</th>\n",
       "      <th>POINT(141.3587536 43.0839536)</th>\n",
       "      <th>POINT(141.3741522 43.1037853)</th>\n",
       "      <th>...</th>\n",
       "      <th>POINT(127.6856834 26.2156831)</th>\n",
       "      <th>POINT(125.2876685 24.8032189)</th>\n",
       "      <th>POINT(124.1871751 24.3404034)</th>\n",
       "      <th>POINT(127.7235186 26.2674837)</th>\n",
       "      <th>POINT(127.9876849 26.593427)</th>\n",
       "      <th>POINT(127.6656429 26.1460274)</th>\n",
       "      <th>POINT(127.8197995 26.3478034)</th>\n",
       "      <th>POINT(128.1779451 26.7456488)</th>\n",
       "      <th>POINT(127.9723621 26.3565509)</th>\n",
       "      <th>POINT(127.7578588 26.2219792)</th>\n",
       "    </tr>\n",
       "  </thead>\n",
       "  <tbody>\n",
       "    <tr>\n",
       "      <th>0</th>\n",
       "      <td>2023-05-01 00:00:00</td>\n",
       "      <td>NaN</td>\n",
       "      <td>NaN</td>\n",
       "      <td>10.0</td>\n",
       "      <td>6.0</td>\n",
       "      <td>5.0</td>\n",
       "      <td>2.0</td>\n",
       "      <td>3.0</td>\n",
       "      <td>NaN</td>\n",
       "      <td>7.0</td>\n",
       "      <td>...</td>\n",
       "      <td>NaN</td>\n",
       "      <td>NaN</td>\n",
       "      <td>NaN</td>\n",
       "      <td>NaN</td>\n",
       "      <td>NaN</td>\n",
       "      <td>NaN</td>\n",
       "      <td>NaN</td>\n",
       "      <td>NaN</td>\n",
       "      <td>NaN</td>\n",
       "      <td>NaN</td>\n",
       "    </tr>\n",
       "    <tr>\n",
       "      <th>1</th>\n",
       "      <td>2023-05-01 01:00:00</td>\n",
       "      <td>NaN</td>\n",
       "      <td>NaN</td>\n",
       "      <td>7.0</td>\n",
       "      <td>5.0</td>\n",
       "      <td>6.0</td>\n",
       "      <td>6.0</td>\n",
       "      <td>8.0</td>\n",
       "      <td>NaN</td>\n",
       "      <td>7.0</td>\n",
       "      <td>...</td>\n",
       "      <td>NaN</td>\n",
       "      <td>NaN</td>\n",
       "      <td>NaN</td>\n",
       "      <td>NaN</td>\n",
       "      <td>NaN</td>\n",
       "      <td>NaN</td>\n",
       "      <td>NaN</td>\n",
       "      <td>NaN</td>\n",
       "      <td>NaN</td>\n",
       "      <td>NaN</td>\n",
       "    </tr>\n",
       "    <tr>\n",
       "      <th>2</th>\n",
       "      <td>2023-05-01 02:00:00</td>\n",
       "      <td>NaN</td>\n",
       "      <td>NaN</td>\n",
       "      <td>5.0</td>\n",
       "      <td>4.0</td>\n",
       "      <td>5.0</td>\n",
       "      <td>8.0</td>\n",
       "      <td>4.0</td>\n",
       "      <td>NaN</td>\n",
       "      <td>6.0</td>\n",
       "      <td>...</td>\n",
       "      <td>NaN</td>\n",
       "      <td>NaN</td>\n",
       "      <td>NaN</td>\n",
       "      <td>NaN</td>\n",
       "      <td>NaN</td>\n",
       "      <td>NaN</td>\n",
       "      <td>NaN</td>\n",
       "      <td>NaN</td>\n",
       "      <td>NaN</td>\n",
       "      <td>NaN</td>\n",
       "    </tr>\n",
       "    <tr>\n",
       "      <th>3</th>\n",
       "      <td>2023-05-01 03:00:00</td>\n",
       "      <td>NaN</td>\n",
       "      <td>NaN</td>\n",
       "      <td>4.0</td>\n",
       "      <td>3.0</td>\n",
       "      <td>7.0</td>\n",
       "      <td>1.0</td>\n",
       "      <td>3.0</td>\n",
       "      <td>NaN</td>\n",
       "      <td>6.0</td>\n",
       "      <td>...</td>\n",
       "      <td>NaN</td>\n",
       "      <td>NaN</td>\n",
       "      <td>NaN</td>\n",
       "      <td>NaN</td>\n",
       "      <td>NaN</td>\n",
       "      <td>NaN</td>\n",
       "      <td>NaN</td>\n",
       "      <td>NaN</td>\n",
       "      <td>NaN</td>\n",
       "      <td>NaN</td>\n",
       "    </tr>\n",
       "    <tr>\n",
       "      <th>4</th>\n",
       "      <td>2023-05-01 04:00:00</td>\n",
       "      <td>NaN</td>\n",
       "      <td>NaN</td>\n",
       "      <td>4.0</td>\n",
       "      <td>4.0</td>\n",
       "      <td>6.0</td>\n",
       "      <td>NaN</td>\n",
       "      <td>6.0</td>\n",
       "      <td>NaN</td>\n",
       "      <td>8.0</td>\n",
       "      <td>...</td>\n",
       "      <td>NaN</td>\n",
       "      <td>NaN</td>\n",
       "      <td>NaN</td>\n",
       "      <td>NaN</td>\n",
       "      <td>NaN</td>\n",
       "      <td>NaN</td>\n",
       "      <td>NaN</td>\n",
       "      <td>NaN</td>\n",
       "      <td>NaN</td>\n",
       "      <td>NaN</td>\n",
       "    </tr>\n",
       "  </tbody>\n",
       "</table>\n",
       "<p>5 rows × 1748 columns</p>\n",
       "</div>"
      ],
      "text/plain": [
       "             Timestamp  POINT(141.3532777 43.06225480000001)   \n",
       "0  2023-05-01 00:00:00                                   NaN  \\\n",
       "1  2023-05-01 01:00:00                                   NaN   \n",
       "2  2023-05-01 02:00:00                                   NaN   \n",
       "3  2023-05-01 03:00:00                                   NaN   \n",
       "4  2023-05-01 04:00:00                                   NaN   \n",
       "\n",
       "   POINT(141.3252375 43.0396273)  POINT(141.3532777 43.06225480000001).1   \n",
       "0                            NaN                                    10.0  \\\n",
       "1                            NaN                                     7.0   \n",
       "2                            NaN                                     5.0   \n",
       "3                            NaN                                     4.0   \n",
       "4                            NaN                                     4.0   \n",
       "\n",
       "   POINT(141.3445286 43.0409769)  POINT(141.3711567 43.1453261)   \n",
       "0                            6.0                            5.0  \\\n",
       "1                            5.0                            6.0   \n",
       "2                            4.0                            5.0   \n",
       "3                            3.0                            7.0   \n",
       "4                            4.0                            6.0   \n",
       "\n",
       "   POINT(141.3331053 43.0820313)  POINT(141.3483898 43.0843826)   \n",
       "0                            2.0                            3.0  \\\n",
       "1                            6.0                            8.0   \n",
       "2                            8.0                            4.0   \n",
       "3                            1.0                            3.0   \n",
       "4                            NaN                            6.0   \n",
       "\n",
       "   POINT(141.3587536 43.0839536)  POINT(141.3741522 43.1037853)  ...   \n",
       "0                            NaN                            7.0  ...  \\\n",
       "1                            NaN                            7.0  ...   \n",
       "2                            NaN                            6.0  ...   \n",
       "3                            NaN                            6.0  ...   \n",
       "4                            NaN                            8.0  ...   \n",
       "\n",
       "   POINT(127.6856834 26.2156831)  POINT(125.2876685 24.8032189)   \n",
       "0                            NaN                            NaN  \\\n",
       "1                            NaN                            NaN   \n",
       "2                            NaN                            NaN   \n",
       "3                            NaN                            NaN   \n",
       "4                            NaN                            NaN   \n",
       "\n",
       "   POINT(124.1871751 24.3404034)  POINT(127.7235186 26.2674837)   \n",
       "0                            NaN                            NaN  \\\n",
       "1                            NaN                            NaN   \n",
       "2                            NaN                            NaN   \n",
       "3                            NaN                            NaN   \n",
       "4                            NaN                            NaN   \n",
       "\n",
       "   POINT(127.9876849 26.593427)  POINT(127.6656429 26.1460274)   \n",
       "0                           NaN                            NaN  \\\n",
       "1                           NaN                            NaN   \n",
       "2                           NaN                            NaN   \n",
       "3                           NaN                            NaN   \n",
       "4                           NaN                            NaN   \n",
       "\n",
       "   POINT(127.8197995 26.3478034)  POINT(128.1779451 26.7456488)   \n",
       "0                            NaN                            NaN  \\\n",
       "1                            NaN                            NaN   \n",
       "2                            NaN                            NaN   \n",
       "3                            NaN                            NaN   \n",
       "4                            NaN                            NaN   \n",
       "\n",
       "   POINT(127.9723621 26.3565509)  POINT(127.7578588 26.2219792)  \n",
       "0                            NaN                            NaN  \n",
       "1                            NaN                            NaN  \n",
       "2                            NaN                            NaN  \n",
       "3                            NaN                            NaN  \n",
       "4                            NaN                            NaN  \n",
       "\n",
       "[5 rows x 1748 columns]"
      ]
     },
     "execution_count": 4,
     "metadata": {},
     "output_type": "execute_result"
    }
   ],
   "source": [
    "import pandas as pd\n",
    "\n",
    "# Read the PM2.5 CSV file\n",
    "df = pd.read_csv('./pm25.csv')\n",
    "df = pd.DataFrame(df)\n",
    "df.head(5)"
   ]
  },
  {
   "cell_type": "markdown",
   "id": "ba5b1020-9d98-40aa-85a7-62f4af78700d",
   "metadata": {},
   "source": [
    "### Task 1 b)i) Replace the NaN values to zero"
   ]
  },
  {
   "cell_type": "code",
   "execution_count": 5,
   "id": "c546a909-d10c-488d-8478-7c3f7fb84890",
   "metadata": {},
   "outputs": [
    {
     "data": {
      "text/html": [
       "<div>\n",
       "<style scoped>\n",
       "    .dataframe tbody tr th:only-of-type {\n",
       "        vertical-align: middle;\n",
       "    }\n",
       "\n",
       "    .dataframe tbody tr th {\n",
       "        vertical-align: top;\n",
       "    }\n",
       "\n",
       "    .dataframe thead th {\n",
       "        text-align: right;\n",
       "    }\n",
       "</style>\n",
       "<table border=\"1\" class=\"dataframe\">\n",
       "  <thead>\n",
       "    <tr style=\"text-align: right;\">\n",
       "      <th></th>\n",
       "      <th>Timestamp</th>\n",
       "      <th>POINT(141.3532777 43.06225480000001)</th>\n",
       "      <th>POINT(141.3252375 43.0396273)</th>\n",
       "      <th>POINT(141.3532777 43.06225480000001).1</th>\n",
       "      <th>POINT(141.3445286 43.0409769)</th>\n",
       "      <th>POINT(141.3711567 43.1453261)</th>\n",
       "      <th>POINT(141.3331053 43.0820313)</th>\n",
       "      <th>POINT(141.3483898 43.0843826)</th>\n",
       "      <th>POINT(141.3587536 43.0839536)</th>\n",
       "      <th>POINT(141.3741522 43.1037853)</th>\n",
       "      <th>...</th>\n",
       "      <th>POINT(127.6856834 26.2156831)</th>\n",
       "      <th>POINT(125.2876685 24.8032189)</th>\n",
       "      <th>POINT(124.1871751 24.3404034)</th>\n",
       "      <th>POINT(127.7235186 26.2674837)</th>\n",
       "      <th>POINT(127.9876849 26.593427)</th>\n",
       "      <th>POINT(127.6656429 26.1460274)</th>\n",
       "      <th>POINT(127.8197995 26.3478034)</th>\n",
       "      <th>POINT(128.1779451 26.7456488)</th>\n",
       "      <th>POINT(127.9723621 26.3565509)</th>\n",
       "      <th>POINT(127.7578588 26.2219792)</th>\n",
       "    </tr>\n",
       "  </thead>\n",
       "  <tbody>\n",
       "    <tr>\n",
       "      <th>0</th>\n",
       "      <td>2023-05-01 00:00:00</td>\n",
       "      <td>0.0</td>\n",
       "      <td>0.0</td>\n",
       "      <td>10.0</td>\n",
       "      <td>6.0</td>\n",
       "      <td>5.0</td>\n",
       "      <td>2.0</td>\n",
       "      <td>3.0</td>\n",
       "      <td>0.0</td>\n",
       "      <td>7.0</td>\n",
       "      <td>...</td>\n",
       "      <td>0.0</td>\n",
       "      <td>0.0</td>\n",
       "      <td>0.0</td>\n",
       "      <td>0.0</td>\n",
       "      <td>0.0</td>\n",
       "      <td>0.0</td>\n",
       "      <td>0.0</td>\n",
       "      <td>0.0</td>\n",
       "      <td>0.0</td>\n",
       "      <td>0.0</td>\n",
       "    </tr>\n",
       "    <tr>\n",
       "      <th>1</th>\n",
       "      <td>2023-05-01 01:00:00</td>\n",
       "      <td>0.0</td>\n",
       "      <td>0.0</td>\n",
       "      <td>7.0</td>\n",
       "      <td>5.0</td>\n",
       "      <td>6.0</td>\n",
       "      <td>6.0</td>\n",
       "      <td>8.0</td>\n",
       "      <td>0.0</td>\n",
       "      <td>7.0</td>\n",
       "      <td>...</td>\n",
       "      <td>0.0</td>\n",
       "      <td>0.0</td>\n",
       "      <td>0.0</td>\n",
       "      <td>0.0</td>\n",
       "      <td>0.0</td>\n",
       "      <td>0.0</td>\n",
       "      <td>0.0</td>\n",
       "      <td>0.0</td>\n",
       "      <td>0.0</td>\n",
       "      <td>0.0</td>\n",
       "    </tr>\n",
       "    <tr>\n",
       "      <th>2</th>\n",
       "      <td>2023-05-01 02:00:00</td>\n",
       "      <td>0.0</td>\n",
       "      <td>0.0</td>\n",
       "      <td>5.0</td>\n",
       "      <td>4.0</td>\n",
       "      <td>5.0</td>\n",
       "      <td>8.0</td>\n",
       "      <td>4.0</td>\n",
       "      <td>0.0</td>\n",
       "      <td>6.0</td>\n",
       "      <td>...</td>\n",
       "      <td>0.0</td>\n",
       "      <td>0.0</td>\n",
       "      <td>0.0</td>\n",
       "      <td>0.0</td>\n",
       "      <td>0.0</td>\n",
       "      <td>0.0</td>\n",
       "      <td>0.0</td>\n",
       "      <td>0.0</td>\n",
       "      <td>0.0</td>\n",
       "      <td>0.0</td>\n",
       "    </tr>\n",
       "    <tr>\n",
       "      <th>3</th>\n",
       "      <td>2023-05-01 03:00:00</td>\n",
       "      <td>0.0</td>\n",
       "      <td>0.0</td>\n",
       "      <td>4.0</td>\n",
       "      <td>3.0</td>\n",
       "      <td>7.0</td>\n",
       "      <td>1.0</td>\n",
       "      <td>3.0</td>\n",
       "      <td>0.0</td>\n",
       "      <td>6.0</td>\n",
       "      <td>...</td>\n",
       "      <td>0.0</td>\n",
       "      <td>0.0</td>\n",
       "      <td>0.0</td>\n",
       "      <td>0.0</td>\n",
       "      <td>0.0</td>\n",
       "      <td>0.0</td>\n",
       "      <td>0.0</td>\n",
       "      <td>0.0</td>\n",
       "      <td>0.0</td>\n",
       "      <td>0.0</td>\n",
       "    </tr>\n",
       "    <tr>\n",
       "      <th>4</th>\n",
       "      <td>2023-05-01 04:00:00</td>\n",
       "      <td>0.0</td>\n",
       "      <td>0.0</td>\n",
       "      <td>4.0</td>\n",
       "      <td>4.0</td>\n",
       "      <td>6.0</td>\n",
       "      <td>0.0</td>\n",
       "      <td>6.0</td>\n",
       "      <td>0.0</td>\n",
       "      <td>8.0</td>\n",
       "      <td>...</td>\n",
       "      <td>0.0</td>\n",
       "      <td>0.0</td>\n",
       "      <td>0.0</td>\n",
       "      <td>0.0</td>\n",
       "      <td>0.0</td>\n",
       "      <td>0.0</td>\n",
       "      <td>0.0</td>\n",
       "      <td>0.0</td>\n",
       "      <td>0.0</td>\n",
       "      <td>0.0</td>\n",
       "    </tr>\n",
       "  </tbody>\n",
       "</table>\n",
       "<p>5 rows × 1748 columns</p>\n",
       "</div>"
      ],
      "text/plain": [
       "             Timestamp  POINT(141.3532777 43.06225480000001)   \n",
       "0  2023-05-01 00:00:00                                   0.0  \\\n",
       "1  2023-05-01 01:00:00                                   0.0   \n",
       "2  2023-05-01 02:00:00                                   0.0   \n",
       "3  2023-05-01 03:00:00                                   0.0   \n",
       "4  2023-05-01 04:00:00                                   0.0   \n",
       "\n",
       "   POINT(141.3252375 43.0396273)  POINT(141.3532777 43.06225480000001).1   \n",
       "0                            0.0                                    10.0  \\\n",
       "1                            0.0                                     7.0   \n",
       "2                            0.0                                     5.0   \n",
       "3                            0.0                                     4.0   \n",
       "4                            0.0                                     4.0   \n",
       "\n",
       "   POINT(141.3445286 43.0409769)  POINT(141.3711567 43.1453261)   \n",
       "0                            6.0                            5.0  \\\n",
       "1                            5.0                            6.0   \n",
       "2                            4.0                            5.0   \n",
       "3                            3.0                            7.0   \n",
       "4                            4.0                            6.0   \n",
       "\n",
       "   POINT(141.3331053 43.0820313)  POINT(141.3483898 43.0843826)   \n",
       "0                            2.0                            3.0  \\\n",
       "1                            6.0                            8.0   \n",
       "2                            8.0                            4.0   \n",
       "3                            1.0                            3.0   \n",
       "4                            0.0                            6.0   \n",
       "\n",
       "   POINT(141.3587536 43.0839536)  POINT(141.3741522 43.1037853)  ...   \n",
       "0                            0.0                            7.0  ...  \\\n",
       "1                            0.0                            7.0  ...   \n",
       "2                            0.0                            6.0  ...   \n",
       "3                            0.0                            6.0  ...   \n",
       "4                            0.0                            8.0  ...   \n",
       "\n",
       "   POINT(127.6856834 26.2156831)  POINT(125.2876685 24.8032189)   \n",
       "0                            0.0                            0.0  \\\n",
       "1                            0.0                            0.0   \n",
       "2                            0.0                            0.0   \n",
       "3                            0.0                            0.0   \n",
       "4                            0.0                            0.0   \n",
       "\n",
       "   POINT(124.1871751 24.3404034)  POINT(127.7235186 26.2674837)   \n",
       "0                            0.0                            0.0  \\\n",
       "1                            0.0                            0.0   \n",
       "2                            0.0                            0.0   \n",
       "3                            0.0                            0.0   \n",
       "4                            0.0                            0.0   \n",
       "\n",
       "   POINT(127.9876849 26.593427)  POINT(127.6656429 26.1460274)   \n",
       "0                           0.0                            0.0  \\\n",
       "1                           0.0                            0.0   \n",
       "2                           0.0                            0.0   \n",
       "3                           0.0                            0.0   \n",
       "4                           0.0                            0.0   \n",
       "\n",
       "   POINT(127.8197995 26.3478034)  POINT(128.1779451 26.7456488)   \n",
       "0                            0.0                            0.0  \\\n",
       "1                            0.0                            0.0   \n",
       "2                            0.0                            0.0   \n",
       "3                            0.0                            0.0   \n",
       "4                            0.0                            0.0   \n",
       "\n",
       "   POINT(127.9723621 26.3565509)  POINT(127.7578588 26.2219792)  \n",
       "0                            0.0                            0.0  \n",
       "1                            0.0                            0.0  \n",
       "2                            0.0                            0.0  \n",
       "3                            0.0                            0.0  \n",
       "4                            0.0                            0.0  \n",
       "\n",
       "[5 rows x 1748 columns]"
      ]
     },
     "execution_count": 5,
     "metadata": {},
     "output_type": "execute_result"
    }
   ],
   "source": [
    "df = df.fillna(0)\n",
    "df.head(5)"
   ]
  },
  {
   "cell_type": "markdown",
   "id": "ceb7af9b-830d-4ecf-9444-e2ddda59c99e",
   "metadata": {},
   "source": [
    "### Task 1 b)ii) Replace the values greater than or equal to 100 to zero"
   ]
  },
  {
   "cell_type": "code",
   "execution_count": 6,
   "id": "12d7f533-520e-42e6-8080-b04d7a07c4f9",
   "metadata": {},
   "outputs": [
    {
     "data": {
      "text/html": [
       "<div>\n",
       "<style scoped>\n",
       "    .dataframe tbody tr th:only-of-type {\n",
       "        vertical-align: middle;\n",
       "    }\n",
       "\n",
       "    .dataframe tbody tr th {\n",
       "        vertical-align: top;\n",
       "    }\n",
       "\n",
       "    .dataframe thead th {\n",
       "        text-align: right;\n",
       "    }\n",
       "</style>\n",
       "<table border=\"1\" class=\"dataframe\">\n",
       "  <thead>\n",
       "    <tr style=\"text-align: right;\">\n",
       "      <th></th>\n",
       "      <th>Timestamp</th>\n",
       "      <th>POINT(141.3532777 43.06225480000001)</th>\n",
       "      <th>POINT(141.3252375 43.0396273)</th>\n",
       "      <th>POINT(141.3532777 43.06225480000001).1</th>\n",
       "      <th>POINT(141.3445286 43.0409769)</th>\n",
       "      <th>POINT(141.3711567 43.1453261)</th>\n",
       "      <th>POINT(141.3331053 43.0820313)</th>\n",
       "      <th>POINT(141.3483898 43.0843826)</th>\n",
       "      <th>POINT(141.3587536 43.0839536)</th>\n",
       "      <th>POINT(141.3741522 43.1037853)</th>\n",
       "      <th>...</th>\n",
       "      <th>POINT(127.6856834 26.2156831)</th>\n",
       "      <th>POINT(125.2876685 24.8032189)</th>\n",
       "      <th>POINT(124.1871751 24.3404034)</th>\n",
       "      <th>POINT(127.7235186 26.2674837)</th>\n",
       "      <th>POINT(127.9876849 26.593427)</th>\n",
       "      <th>POINT(127.6656429 26.1460274)</th>\n",
       "      <th>POINT(127.8197995 26.3478034)</th>\n",
       "      <th>POINT(128.1779451 26.7456488)</th>\n",
       "      <th>POINT(127.9723621 26.3565509)</th>\n",
       "      <th>POINT(127.7578588 26.2219792)</th>\n",
       "    </tr>\n",
       "  </thead>\n",
       "  <tbody>\n",
       "    <tr>\n",
       "      <th>0</th>\n",
       "      <td>2023-05-01 00:00:00</td>\n",
       "      <td>0.0</td>\n",
       "      <td>0.0</td>\n",
       "      <td>10.0</td>\n",
       "      <td>6.0</td>\n",
       "      <td>5.0</td>\n",
       "      <td>2.0</td>\n",
       "      <td>3.0</td>\n",
       "      <td>0.0</td>\n",
       "      <td>7.0</td>\n",
       "      <td>...</td>\n",
       "      <td>0.0</td>\n",
       "      <td>0.0</td>\n",
       "      <td>0.0</td>\n",
       "      <td>0.0</td>\n",
       "      <td>0.0</td>\n",
       "      <td>0.0</td>\n",
       "      <td>0.0</td>\n",
       "      <td>0.0</td>\n",
       "      <td>0.0</td>\n",
       "      <td>0.0</td>\n",
       "    </tr>\n",
       "    <tr>\n",
       "      <th>1</th>\n",
       "      <td>2023-05-01 01:00:00</td>\n",
       "      <td>0.0</td>\n",
       "      <td>0.0</td>\n",
       "      <td>7.0</td>\n",
       "      <td>5.0</td>\n",
       "      <td>6.0</td>\n",
       "      <td>6.0</td>\n",
       "      <td>8.0</td>\n",
       "      <td>0.0</td>\n",
       "      <td>7.0</td>\n",
       "      <td>...</td>\n",
       "      <td>0.0</td>\n",
       "      <td>0.0</td>\n",
       "      <td>0.0</td>\n",
       "      <td>0.0</td>\n",
       "      <td>0.0</td>\n",
       "      <td>0.0</td>\n",
       "      <td>0.0</td>\n",
       "      <td>0.0</td>\n",
       "      <td>0.0</td>\n",
       "      <td>0.0</td>\n",
       "    </tr>\n",
       "    <tr>\n",
       "      <th>2</th>\n",
       "      <td>2023-05-01 02:00:00</td>\n",
       "      <td>0.0</td>\n",
       "      <td>0.0</td>\n",
       "      <td>5.0</td>\n",
       "      <td>4.0</td>\n",
       "      <td>5.0</td>\n",
       "      <td>8.0</td>\n",
       "      <td>4.0</td>\n",
       "      <td>0.0</td>\n",
       "      <td>6.0</td>\n",
       "      <td>...</td>\n",
       "      <td>0.0</td>\n",
       "      <td>0.0</td>\n",
       "      <td>0.0</td>\n",
       "      <td>0.0</td>\n",
       "      <td>0.0</td>\n",
       "      <td>0.0</td>\n",
       "      <td>0.0</td>\n",
       "      <td>0.0</td>\n",
       "      <td>0.0</td>\n",
       "      <td>0.0</td>\n",
       "    </tr>\n",
       "    <tr>\n",
       "      <th>3</th>\n",
       "      <td>2023-05-01 03:00:00</td>\n",
       "      <td>0.0</td>\n",
       "      <td>0.0</td>\n",
       "      <td>4.0</td>\n",
       "      <td>3.0</td>\n",
       "      <td>7.0</td>\n",
       "      <td>1.0</td>\n",
       "      <td>3.0</td>\n",
       "      <td>0.0</td>\n",
       "      <td>6.0</td>\n",
       "      <td>...</td>\n",
       "      <td>0.0</td>\n",
       "      <td>0.0</td>\n",
       "      <td>0.0</td>\n",
       "      <td>0.0</td>\n",
       "      <td>0.0</td>\n",
       "      <td>0.0</td>\n",
       "      <td>0.0</td>\n",
       "      <td>0.0</td>\n",
       "      <td>0.0</td>\n",
       "      <td>0.0</td>\n",
       "    </tr>\n",
       "    <tr>\n",
       "      <th>4</th>\n",
       "      <td>2023-05-01 04:00:00</td>\n",
       "      <td>0.0</td>\n",
       "      <td>0.0</td>\n",
       "      <td>4.0</td>\n",
       "      <td>4.0</td>\n",
       "      <td>6.0</td>\n",
       "      <td>0.0</td>\n",
       "      <td>6.0</td>\n",
       "      <td>0.0</td>\n",
       "      <td>8.0</td>\n",
       "      <td>...</td>\n",
       "      <td>0.0</td>\n",
       "      <td>0.0</td>\n",
       "      <td>0.0</td>\n",
       "      <td>0.0</td>\n",
       "      <td>0.0</td>\n",
       "      <td>0.0</td>\n",
       "      <td>0.0</td>\n",
       "      <td>0.0</td>\n",
       "      <td>0.0</td>\n",
       "      <td>0.0</td>\n",
       "    </tr>\n",
       "  </tbody>\n",
       "</table>\n",
       "<p>5 rows × 1748 columns</p>\n",
       "</div>"
      ],
      "text/plain": [
       "             Timestamp  POINT(141.3532777 43.06225480000001)   \n",
       "0  2023-05-01 00:00:00                                   0.0  \\\n",
       "1  2023-05-01 01:00:00                                   0.0   \n",
       "2  2023-05-01 02:00:00                                   0.0   \n",
       "3  2023-05-01 03:00:00                                   0.0   \n",
       "4  2023-05-01 04:00:00                                   0.0   \n",
       "\n",
       "   POINT(141.3252375 43.0396273)  POINT(141.3532777 43.06225480000001).1   \n",
       "0                            0.0                                    10.0  \\\n",
       "1                            0.0                                     7.0   \n",
       "2                            0.0                                     5.0   \n",
       "3                            0.0                                     4.0   \n",
       "4                            0.0                                     4.0   \n",
       "\n",
       "   POINT(141.3445286 43.0409769)  POINT(141.3711567 43.1453261)   \n",
       "0                            6.0                            5.0  \\\n",
       "1                            5.0                            6.0   \n",
       "2                            4.0                            5.0   \n",
       "3                            3.0                            7.0   \n",
       "4                            4.0                            6.0   \n",
       "\n",
       "   POINT(141.3331053 43.0820313)  POINT(141.3483898 43.0843826)   \n",
       "0                            2.0                            3.0  \\\n",
       "1                            6.0                            8.0   \n",
       "2                            8.0                            4.0   \n",
       "3                            1.0                            3.0   \n",
       "4                            0.0                            6.0   \n",
       "\n",
       "   POINT(141.3587536 43.0839536)  POINT(141.3741522 43.1037853)  ...   \n",
       "0                            0.0                            7.0  ...  \\\n",
       "1                            0.0                            7.0  ...   \n",
       "2                            0.0                            6.0  ...   \n",
       "3                            0.0                            6.0  ...   \n",
       "4                            0.0                            8.0  ...   \n",
       "\n",
       "   POINT(127.6856834 26.2156831)  POINT(125.2876685 24.8032189)   \n",
       "0                            0.0                            0.0  \\\n",
       "1                            0.0                            0.0   \n",
       "2                            0.0                            0.0   \n",
       "3                            0.0                            0.0   \n",
       "4                            0.0                            0.0   \n",
       "\n",
       "   POINT(124.1871751 24.3404034)  POINT(127.7235186 26.2674837)   \n",
       "0                            0.0                            0.0  \\\n",
       "1                            0.0                            0.0   \n",
       "2                            0.0                            0.0   \n",
       "3                            0.0                            0.0   \n",
       "4                            0.0                            0.0   \n",
       "\n",
       "   POINT(127.9876849 26.593427)  POINT(127.6656429 26.1460274)   \n",
       "0                           0.0                            0.0  \\\n",
       "1                           0.0                            0.0   \n",
       "2                           0.0                            0.0   \n",
       "3                           0.0                            0.0   \n",
       "4                           0.0                            0.0   \n",
       "\n",
       "   POINT(127.8197995 26.3478034)  POINT(128.1779451 26.7456488)   \n",
       "0                            0.0                            0.0  \\\n",
       "1                            0.0                            0.0   \n",
       "2                            0.0                            0.0   \n",
       "3                            0.0                            0.0   \n",
       "4                            0.0                            0.0   \n",
       "\n",
       "   POINT(127.9723621 26.3565509)  POINT(127.7578588 26.2219792)  \n",
       "0                            0.0                            0.0  \n",
       "1                            0.0                            0.0  \n",
       "2                            0.0                            0.0  \n",
       "3                            0.0                            0.0  \n",
       "4                            0.0                            0.0  \n",
       "\n",
       "[5 rows x 1748 columns]"
      ]
     },
     "execution_count": 6,
     "metadata": {},
     "output_type": "execute_result"
    }
   ],
   "source": [
    "df.iloc[0:, 1:] = df.iloc[0:, 1:].where(df.iloc[0:, 1:] < 100, 0)\n",
    "df.head(5)"
   ]
  },
  {
   "cell_type": "markdown",
   "id": "d90cdbc9-087f-4be5-9bbf-208421605eea",
   "metadata": {},
   "source": [
    "### Task 1 b)iii) Replace the existing values in the timestamp column with 1, 2, 3, ..."
   ]
  },
  {
   "cell_type": "code",
   "execution_count": 7,
   "id": "c89fafc5-2070-406a-b394-e06d5e3c8ad1",
   "metadata": {},
   "outputs": [
    {
     "data": {
      "text/html": [
       "<div>\n",
       "<style scoped>\n",
       "    .dataframe tbody tr th:only-of-type {\n",
       "        vertical-align: middle;\n",
       "    }\n",
       "\n",
       "    .dataframe tbody tr th {\n",
       "        vertical-align: top;\n",
       "    }\n",
       "\n",
       "    .dataframe thead th {\n",
       "        text-align: right;\n",
       "    }\n",
       "</style>\n",
       "<table border=\"1\" class=\"dataframe\">\n",
       "  <thead>\n",
       "    <tr style=\"text-align: right;\">\n",
       "      <th></th>\n",
       "      <th>tid</th>\n",
       "      <th>POINT(141.3532777 43.06225480000001)</th>\n",
       "      <th>POINT(141.3252375 43.0396273)</th>\n",
       "      <th>POINT(141.3532777 43.06225480000001).1</th>\n",
       "      <th>POINT(141.3445286 43.0409769)</th>\n",
       "      <th>POINT(141.3711567 43.1453261)</th>\n",
       "      <th>POINT(141.3331053 43.0820313)</th>\n",
       "      <th>POINT(141.3483898 43.0843826)</th>\n",
       "      <th>POINT(141.3587536 43.0839536)</th>\n",
       "      <th>POINT(141.3741522 43.1037853)</th>\n",
       "      <th>...</th>\n",
       "      <th>POINT(127.6856834 26.2156831)</th>\n",
       "      <th>POINT(125.2876685 24.8032189)</th>\n",
       "      <th>POINT(124.1871751 24.3404034)</th>\n",
       "      <th>POINT(127.7235186 26.2674837)</th>\n",
       "      <th>POINT(127.9876849 26.593427)</th>\n",
       "      <th>POINT(127.6656429 26.1460274)</th>\n",
       "      <th>POINT(127.8197995 26.3478034)</th>\n",
       "      <th>POINT(128.1779451 26.7456488)</th>\n",
       "      <th>POINT(127.9723621 26.3565509)</th>\n",
       "      <th>POINT(127.7578588 26.2219792)</th>\n",
       "    </tr>\n",
       "  </thead>\n",
       "  <tbody>\n",
       "    <tr>\n",
       "      <th>0</th>\n",
       "      <td>1</td>\n",
       "      <td>0.0</td>\n",
       "      <td>0.0</td>\n",
       "      <td>10.0</td>\n",
       "      <td>6.0</td>\n",
       "      <td>5.0</td>\n",
       "      <td>2.0</td>\n",
       "      <td>3.0</td>\n",
       "      <td>0.0</td>\n",
       "      <td>7.0</td>\n",
       "      <td>...</td>\n",
       "      <td>0.0</td>\n",
       "      <td>0.0</td>\n",
       "      <td>0.0</td>\n",
       "      <td>0.0</td>\n",
       "      <td>0.0</td>\n",
       "      <td>0.0</td>\n",
       "      <td>0.0</td>\n",
       "      <td>0.0</td>\n",
       "      <td>0.0</td>\n",
       "      <td>0.0</td>\n",
       "    </tr>\n",
       "    <tr>\n",
       "      <th>1</th>\n",
       "      <td>2</td>\n",
       "      <td>0.0</td>\n",
       "      <td>0.0</td>\n",
       "      <td>7.0</td>\n",
       "      <td>5.0</td>\n",
       "      <td>6.0</td>\n",
       "      <td>6.0</td>\n",
       "      <td>8.0</td>\n",
       "      <td>0.0</td>\n",
       "      <td>7.0</td>\n",
       "      <td>...</td>\n",
       "      <td>0.0</td>\n",
       "      <td>0.0</td>\n",
       "      <td>0.0</td>\n",
       "      <td>0.0</td>\n",
       "      <td>0.0</td>\n",
       "      <td>0.0</td>\n",
       "      <td>0.0</td>\n",
       "      <td>0.0</td>\n",
       "      <td>0.0</td>\n",
       "      <td>0.0</td>\n",
       "    </tr>\n",
       "    <tr>\n",
       "      <th>2</th>\n",
       "      <td>3</td>\n",
       "      <td>0.0</td>\n",
       "      <td>0.0</td>\n",
       "      <td>5.0</td>\n",
       "      <td>4.0</td>\n",
       "      <td>5.0</td>\n",
       "      <td>8.0</td>\n",
       "      <td>4.0</td>\n",
       "      <td>0.0</td>\n",
       "      <td>6.0</td>\n",
       "      <td>...</td>\n",
       "      <td>0.0</td>\n",
       "      <td>0.0</td>\n",
       "      <td>0.0</td>\n",
       "      <td>0.0</td>\n",
       "      <td>0.0</td>\n",
       "      <td>0.0</td>\n",
       "      <td>0.0</td>\n",
       "      <td>0.0</td>\n",
       "      <td>0.0</td>\n",
       "      <td>0.0</td>\n",
       "    </tr>\n",
       "    <tr>\n",
       "      <th>3</th>\n",
       "      <td>4</td>\n",
       "      <td>0.0</td>\n",
       "      <td>0.0</td>\n",
       "      <td>4.0</td>\n",
       "      <td>3.0</td>\n",
       "      <td>7.0</td>\n",
       "      <td>1.0</td>\n",
       "      <td>3.0</td>\n",
       "      <td>0.0</td>\n",
       "      <td>6.0</td>\n",
       "      <td>...</td>\n",
       "      <td>0.0</td>\n",
       "      <td>0.0</td>\n",
       "      <td>0.0</td>\n",
       "      <td>0.0</td>\n",
       "      <td>0.0</td>\n",
       "      <td>0.0</td>\n",
       "      <td>0.0</td>\n",
       "      <td>0.0</td>\n",
       "      <td>0.0</td>\n",
       "      <td>0.0</td>\n",
       "    </tr>\n",
       "    <tr>\n",
       "      <th>4</th>\n",
       "      <td>5</td>\n",
       "      <td>0.0</td>\n",
       "      <td>0.0</td>\n",
       "      <td>4.0</td>\n",
       "      <td>4.0</td>\n",
       "      <td>6.0</td>\n",
       "      <td>0.0</td>\n",
       "      <td>6.0</td>\n",
       "      <td>0.0</td>\n",
       "      <td>8.0</td>\n",
       "      <td>...</td>\n",
       "      <td>0.0</td>\n",
       "      <td>0.0</td>\n",
       "      <td>0.0</td>\n",
       "      <td>0.0</td>\n",
       "      <td>0.0</td>\n",
       "      <td>0.0</td>\n",
       "      <td>0.0</td>\n",
       "      <td>0.0</td>\n",
       "      <td>0.0</td>\n",
       "      <td>0.0</td>\n",
       "    </tr>\n",
       "  </tbody>\n",
       "</table>\n",
       "<p>5 rows × 1748 columns</p>\n",
       "</div>"
      ],
      "text/plain": [
       "   tid  POINT(141.3532777 43.06225480000001)  POINT(141.3252375 43.0396273)   \n",
       "0    1                                   0.0                            0.0  \\\n",
       "1    2                                   0.0                            0.0   \n",
       "2    3                                   0.0                            0.0   \n",
       "3    4                                   0.0                            0.0   \n",
       "4    5                                   0.0                            0.0   \n",
       "\n",
       "   POINT(141.3532777 43.06225480000001).1  POINT(141.3445286 43.0409769)   \n",
       "0                                    10.0                            6.0  \\\n",
       "1                                     7.0                            5.0   \n",
       "2                                     5.0                            4.0   \n",
       "3                                     4.0                            3.0   \n",
       "4                                     4.0                            4.0   \n",
       "\n",
       "   POINT(141.3711567 43.1453261)  POINT(141.3331053 43.0820313)   \n",
       "0                            5.0                            2.0  \\\n",
       "1                            6.0                            6.0   \n",
       "2                            5.0                            8.0   \n",
       "3                            7.0                            1.0   \n",
       "4                            6.0                            0.0   \n",
       "\n",
       "   POINT(141.3483898 43.0843826)  POINT(141.3587536 43.0839536)   \n",
       "0                            3.0                            0.0  \\\n",
       "1                            8.0                            0.0   \n",
       "2                            4.0                            0.0   \n",
       "3                            3.0                            0.0   \n",
       "4                            6.0                            0.0   \n",
       "\n",
       "   POINT(141.3741522 43.1037853)  ...  POINT(127.6856834 26.2156831)   \n",
       "0                            7.0  ...                            0.0  \\\n",
       "1                            7.0  ...                            0.0   \n",
       "2                            6.0  ...                            0.0   \n",
       "3                            6.0  ...                            0.0   \n",
       "4                            8.0  ...                            0.0   \n",
       "\n",
       "   POINT(125.2876685 24.8032189)  POINT(124.1871751 24.3404034)   \n",
       "0                            0.0                            0.0  \\\n",
       "1                            0.0                            0.0   \n",
       "2                            0.0                            0.0   \n",
       "3                            0.0                            0.0   \n",
       "4                            0.0                            0.0   \n",
       "\n",
       "   POINT(127.7235186 26.2674837)  POINT(127.9876849 26.593427)   \n",
       "0                            0.0                           0.0  \\\n",
       "1                            0.0                           0.0   \n",
       "2                            0.0                           0.0   \n",
       "3                            0.0                           0.0   \n",
       "4                            0.0                           0.0   \n",
       "\n",
       "   POINT(127.6656429 26.1460274)  POINT(127.8197995 26.3478034)   \n",
       "0                            0.0                            0.0  \\\n",
       "1                            0.0                            0.0   \n",
       "2                            0.0                            0.0   \n",
       "3                            0.0                            0.0   \n",
       "4                            0.0                            0.0   \n",
       "\n",
       "   POINT(128.1779451 26.7456488)  POINT(127.9723621 26.3565509)   \n",
       "0                            0.0                            0.0  \\\n",
       "1                            0.0                            0.0   \n",
       "2                            0.0                            0.0   \n",
       "3                            0.0                            0.0   \n",
       "4                            0.0                            0.0   \n",
       "\n",
       "   POINT(127.7578588 26.2219792)  \n",
       "0                            0.0  \n",
       "1                            0.0  \n",
       "2                            0.0  \n",
       "3                            0.0  \n",
       "4                            0.0  \n",
       "\n",
       "[5 rows x 1748 columns]"
      ]
     },
     "execution_count": 7,
     "metadata": {},
     "output_type": "execute_result"
    }
   ],
   "source": [
    "df['Timestamp'] = pd.Series(range(1, len(df)+1))\n",
    "df = df.rename(columns={'Timestamp': 'tid'})\n",
    "df.head(5)"
   ]
  },
  {
   "cell_type": "markdown",
   "id": "29158527-b9e8-4d8c-a2e3-e3e65465961e",
   "metadata": {},
   "source": [
    "### Task 1 b)iv) Install PAMI repository: pip install -U PAMI and read material"
   ]
  },
  {
   "cell_type": "code",
   "execution_count": 15,
   "id": "bc488a2b-3f2a-4925-9adf-67f2dcb9014e",
   "metadata": {},
   "outputs": [
    {
     "name": "stdout",
     "output_type": "stream",
     "text": [
      "Defaulting to user installation because normal site-packages is not writeable\n",
      "Requirement already satisfied: PAMI in /home/student/s1290224/.local/lib/python3.10/site-packages (2023.4.1)\n",
      "Collecting PAMI\n",
      "  Obtaining dependency information for PAMI from https://files.pythonhosted.org/packages/02/67/c5375a6a9614ad86ccd110639730e27f177363bc36e4b5a574e651c9c966/pami-2023.7.22.3-py3-none-any.whl.metadata\n",
      "  Downloading pami-2023.7.22.3-py3-none-any.whl.metadata (785 bytes)\n",
      "Requirement already satisfied: psutil in /home/jupyterHub/anaconda3/envs/jupyterHub/lib/python3.10/site-packages (from PAMI) (5.9.1)\n",
      "Requirement already satisfied: pandas in /home/jupyterHub/anaconda3/envs/jupyterHub/lib/python3.10/site-packages (from PAMI) (2.0.1)\n",
      "Requirement already satisfied: plotly in /home/jupyterHub/anaconda3/envs/jupyterHub/lib/python3.10/site-packages (from PAMI) (5.10.0)\n",
      "Requirement already satisfied: matplotlib in /home/jupyterHub/anaconda3/envs/jupyterHub/lib/python3.10/site-packages (from PAMI) (3.5.2)\n",
      "Requirement already satisfied: resource in /home/jupyterHub/anaconda3/envs/jupyterHub/lib/python3.10/site-packages (from PAMI) (0.2.1)\n",
      "Requirement already satisfied: validators in /home/jupyterHub/anaconda3/envs/jupyterHub/lib/python3.10/site-packages (from PAMI) (0.20.0)\n",
      "Requirement already satisfied: urllib3 in /home/jupyterHub/anaconda3/envs/jupyterHub/lib/python3.10/site-packages (from PAMI) (1.26.9)\n",
      "Requirement already satisfied: Pillow in /home/jupyterHub/anaconda3/envs/jupyterHub/lib/python3.10/site-packages (from PAMI) (9.1.1)\n",
      "Requirement already satisfied: numpy in /home/jupyterHub/anaconda3/envs/jupyterHub/lib/python3.10/site-packages (from PAMI) (1.22.3)\n",
      "Requirement already satisfied: cycler>=0.10 in /home/jupyterHub/anaconda3/envs/jupyterHub/lib/python3.10/site-packages (from matplotlib->PAMI) (0.11.0)\n",
      "Requirement already satisfied: fonttools>=4.22.0 in /home/jupyterHub/anaconda3/envs/jupyterHub/lib/python3.10/site-packages (from matplotlib->PAMI) (4.33.3)\n",
      "Requirement already satisfied: kiwisolver>=1.0.1 in /home/jupyterHub/anaconda3/envs/jupyterHub/lib/python3.10/site-packages (from matplotlib->PAMI) (1.4.3)\n",
      "Requirement already satisfied: packaging>=20.0 in /home/jupyterHub/anaconda3/envs/jupyterHub/lib/python3.10/site-packages (from matplotlib->PAMI) (21.3)\n",
      "Requirement already satisfied: pyparsing>=2.2.1 in /home/jupyterHub/anaconda3/envs/jupyterHub/lib/python3.10/site-packages (from matplotlib->PAMI) (3.0.9)\n",
      "Requirement already satisfied: python-dateutil>=2.7 in /home/jupyterHub/anaconda3/envs/jupyterHub/lib/python3.10/site-packages (from matplotlib->PAMI) (2.8.2)\n",
      "Requirement already satisfied: pytz>=2020.1 in /home/jupyterHub/anaconda3/envs/jupyterHub/lib/python3.10/site-packages (from pandas->PAMI) (2022.1)\n",
      "Requirement already satisfied: tzdata>=2022.1 in /home/jupyterHub/anaconda3/envs/jupyterHub/lib/python3.10/site-packages (from pandas->PAMI) (2023.3)\n",
      "Requirement already satisfied: tenacity>=6.2.0 in /home/jupyterHub/anaconda3/envs/jupyterHub/lib/python3.10/site-packages (from plotly->PAMI) (8.0.1)\n",
      "Requirement already satisfied: JsonForm>=0.0.2 in /home/jupyterHub/anaconda3/envs/jupyterHub/lib/python3.10/site-packages (from resource->PAMI) (0.0.2)\n",
      "Requirement already satisfied: JsonSir>=0.0.2 in /home/jupyterHub/anaconda3/envs/jupyterHub/lib/python3.10/site-packages (from resource->PAMI) (0.0.2)\n",
      "Requirement already satisfied: python-easyconfig>=0.1.0 in /home/jupyterHub/anaconda3/envs/jupyterHub/lib/python3.10/site-packages (from resource->PAMI) (0.1.7)\n",
      "Requirement already satisfied: decorator>=3.4.0 in /home/jupyterHub/anaconda3/envs/jupyterHub/lib/python3.10/site-packages (from validators->PAMI) (5.1.1)\n",
      "Requirement already satisfied: jsonschema in /home/jupyterHub/anaconda3/envs/jupyterHub/lib/python3.10/site-packages (from JsonForm>=0.0.2->resource->PAMI) (4.6.0)\n",
      "Requirement already satisfied: six>=1.5 in /home/jupyterHub/anaconda3/envs/jupyterHub/lib/python3.10/site-packages (from python-dateutil>=2.7->matplotlib->PAMI) (1.16.0)\n",
      "Requirement already satisfied: PyYAML in /home/jupyterHub/anaconda3/envs/jupyterHub/lib/python3.10/site-packages (from python-easyconfig>=0.1.0->resource->PAMI) (6.0)\n",
      "Requirement already satisfied: attrs>=17.4.0 in /home/jupyterHub/anaconda3/envs/jupyterHub/lib/python3.10/site-packages (from jsonschema->JsonForm>=0.0.2->resource->PAMI) (21.4.0)\n",
      "Requirement already satisfied: pyrsistent!=0.17.0,!=0.17.1,!=0.17.2,>=0.14.0 in /home/jupyterHub/anaconda3/envs/jupyterHub/lib/python3.10/site-packages (from jsonschema->JsonForm>=0.0.2->resource->PAMI) (0.18.1)\n",
      "Downloading pami-2023.7.22.3-py3-none-any.whl (13 kB)\n",
      "Installing collected packages: PAMI\n",
      "  Attempting uninstall: PAMI\n",
      "    Found existing installation: pami 2023.4.1\n",
      "    Uninstalling pami-2023.4.1:\n",
      "      Successfully uninstalled pami-2023.4.1\n",
      "Successfully installed PAMI-2023.7.22.3\n",
      "\n",
      "\u001b[1m[\u001b[0m\u001b[34;49mnotice\u001b[0m\u001b[1;39;49m]\u001b[0m\u001b[39;49m A new release of pip is available: \u001b[0m\u001b[31;49m23.2\u001b[0m\u001b[39;49m -> \u001b[0m\u001b[32;49m23.2.1\u001b[0m\n",
      "\u001b[1m[\u001b[0m\u001b[34;49mnotice\u001b[0m\u001b[1;39;49m]\u001b[0m\u001b[39;49m To update, run: \u001b[0m\u001b[32;49m/home/jupyterHub/anaconda3/envs/jupyterHub/bin/python -m pip install --upgrade pip\u001b[0m\n",
      "Note: you may need to restart the kernel to use updated packages.\n"
     ]
    }
   ],
   "source": [
    "pip install -U PAMI"
   ]
  },
  {
   "cell_type": "markdown",
   "id": "b05a0186-bc4c-44cd-b5e7-b8829afd9a2a",
   "metadata": {},
   "source": [
    "### Task 1 b)v)vi) implement the code \"Dense data frame to transactional database\" by setting >= condition and threshold value= 15"
   ]
  },
  {
   "cell_type": "code",
   "execution_count": 9,
   "id": "cb0ec667-1260-413a-a132-beb736c3b504",
   "metadata": {},
   "outputs": [
    {
     "name": "stdout",
     "output_type": "stream",
     "text": [
      "The output file is saved at ./PM24HeavyPollutionRecordingSensors.csv\n"
     ]
    }
   ],
   "source": [
    "from PAMI.extras.DF2DB import denseDF2DB as pro \n",
    "import pandas as pd\n",
    "\n",
    "# Objective: convert the above dataframe into a transactional database with items whose value is greater than or equal 1.\n",
    "db = pro.denseDF2DB(inputDF=df, thresholdValue=15, condition='>=')\n",
    "# Convert and store the dataframe as a transactional database file\n",
    "db.createTransactional(outputFile='./PM24HeavyPollutionRecordingSensors.csv')\n",
    "# Getting the fileName of the transactional database\n",
    "print('The output file is saved at ' + db.getFileName())\n"
   ]
  },
  {
   "cell_type": "markdown",
   "id": "b8af1a2a-82d3-4a89-af2a-5be518914277",
   "metadata": {},
   "source": [
    "### Task 1 c)i) Read and Implement Chapter 5 (Printing, displaying, and saving the statistical details of a database)"
   ]
  },
  {
   "cell_type": "markdown",
   "id": "11088988-4795-4d84-9779-41b72e465f16",
   "metadata": {},
   "source": [
    "#### -Printing all statistics"
   ]
  },
  {
   "cell_type": "code",
   "execution_count": 13,
   "id": "2d05b9dc-0468-45a9-8188-f8178e796cec",
   "metadata": {},
   "outputs": [
    {
     "name": "stdout",
     "output_type": "stream",
     "text": [
      "Database size (total no of transactions) : 744\n",
      "Number of items : 1404\n",
      "Minimum Transaction Size : 1\n",
      "Average Transaction Size : 182.10752688172042\n",
      "Maximum Transaction Size : 1003\n",
      "Standard Deviation Transaction Size : 225.7093757665761\n",
      "Variance in Transaction Sizes : 51013.28855699793\n",
      "Sparsity : 0.8702937842722789\n"
     ]
    },
    {
     "data": {
      "image/png": "[encoded data removed]",
      "text/plain": [
       "<Figure size 432x288 with 1 Axes>"
      ]
     },
     "metadata": {
      "needs_background": "light"
     },
     "output_type": "display_data"
    },
    {
     "data": {
      "image/png": "[encoded data removed]",
      "text/plain": [
       "<Figure size 432x288 with 1 Axes>"
      ]
     },
     "metadata": {
      "needs_background": "light"
     },
     "output_type": "display_data"
    }
   ],
   "source": [
    "import PAMI.extras.dbStats.transactionalDatabaseStats as stats\n",
    "\n",
    "#specify the file name\n",
    "inputFile = 'PM24HeavyPollutionRecordingSensors.csv'\n",
    "\n",
    "obj=stats.transactionalDatabaseStats(inputFile,sep=',') \n",
    "obj.run() \n",
    "\n",
    "obj.printStats() \n",
    "obj.plotGraphs()"
   ]
  },
  {
   "cell_type": "markdown",
   "id": "9ded4c75-3dee-421b-ab18-16db98d2c362",
   "metadata": {},
   "source": [
    "#### -Printing individual statistics"
   ]
  },
  {
   "cell_type": "code",
   "execution_count": 15,
   "id": "b8f0e18c-c842-443d-bf5a-a1f502af4c80",
   "metadata": {},
   "outputs": [
    {
     "name": "stdout",
     "output_type": "stream",
     "text": [
      "Database size : 744\n",
      "Total number of items : 1404\n",
      "Database sparsity : 0.8702937842722789\n",
      "Minimum Transaction Size : 1\n",
      "Average Transaction Size : 182.10752688172042\n",
      "Maximum Transaction Size : 1003\n",
      "Standard Deviation Transaction Size : 225.7093757665761\n",
      "Variance in Transaction Sizes : 51013.28855699793\n"
     ]
    }
   ],
   "source": [
    "import PAMI.extras.dbStats.transactionalDatabaseStats as tds\n",
    "    \n",
    "inputFile = \"PM24HeavyPollutionRecordingSensors.csv\"\n",
    "\n",
    "#initialize the program\n",
    "obj = tds.transactionalDatabaseStats(inputFile)\n",
    "obj = tds.transactionalDatabaseStats(inputFile,sep=',') #override default tab seperator\n",
    "\n",
    "#execute the program\n",
    "obj.run()\n",
    "\n",
    "#print the database statistics\n",
    "print(f'Database size : {obj.getDatabaseSize()}')\n",
    "print(f'Total number of items : {obj.getTotalNumberOfItems()}')\n",
    "print(f'Database sparsity : {obj.getSparsity()}')\n",
    "print(f'Minimum Transaction Size : {obj.getMinimumTransactionLength()}')\n",
    "print(f'Average Transaction Size : {obj.getAverageTransactionLength()}')\n",
    "print(f'Maximum Transaction Size : {obj.getMaximumTransactionLength()}')\n",
    "print(f'Standard Deviation Transaction Size : {obj.getStandardDeviationTransactionLength()}')\n",
    "print(f'Variance in Transaction Sizes : {obj.getVarianceTransactionLength()}')\n",
    "\n",
    "itemFrequencies = obj.getSortedListOfItemFrequencies()\n",
    "transactionLength = obj.getTransanctionalLengthDistribution()\n",
    "obj.save(itemFrequencies, 'itemFrequency.csv')\n",
    "obj.save(transactionLength, 'transactionSize.csv')   "
   ]
  },
  {
   "cell_type": "markdown",
   "id": "c879a544-0df1-42ce-bd59-5c8a0bd61687",
   "metadata": {},
   "source": [
    "### Task 1 c)ii) Read Chapter 6"
   ]
  },
  {
   "cell_type": "markdown",
   "id": "8736226b-05b6-4b36-a732-f422d4b205d9",
   "metadata": {},
   "source": [
    "### Task 1 c)iii)iv Implement the FP-growth algorithm by reading the manual and store the patterns"
   ]
  },
  {
   "cell_type": "markdown",
   "id": "c18e29f4-33b9-498e-b3c7-e7e94c82b89a",
   "metadata": {},
   "source": [
    "#### From the statistics in Task 1 c)i), the total number of transactions is 744. A pattern could be considered interesting if its sup value is 30% or more. Therefore, the minSup value will be ceil(744*0.3) = 224."
   ]
  },
  {
   "cell_type": "code",
   "execution_count": 25,
   "id": "ae645b88-54f6-4e76-9bea-7ff3c77f95dc",
   "metadata": {},
   "outputs": [
    {
     "name": "stdout",
     "output_type": "stream",
     "text": [
      "Frequent patterns were generated successfully using frequentPatternGrowth algorithm\n",
      "Total number of Frequent Patterns: 116\n",
      "Total Memory in RSS 4947140608\n",
      "Total ExecutionTime in seconds: 0.29395389556884766\n"
     ]
    }
   ],
   "source": [
    "#import the frequent pattern mining algorithm\n",
    "from PAMI.frequentPattern.basic import FPGrowth as alg\n",
    "\n",
    "#inputFile = 'fileName'\n",
    "inputFile = 'PM24HeavyPollutionRecordingSensors.csv'\n",
    "\n",
    "#specify the constraints used in the model\n",
    "minSup=224\n",
    "\n",
    "#create the object of the mining algorithm \n",
    "obj = alg.FPGrowth(inputFile, minSup, sep=',')\n",
    "\n",
    "#start the mining process\n",
    "obj.startMine()\n",
    "\n",
    "#Print the number of interesting patterns generated\n",
    "print(\"Total number of Frequent Patterns:\", len(obj.getPatterns()))\n",
    "\n",
    "#Save the generated patterns in a file\n",
    "obj.save('frequentPatterns.txt')\n",
    "\n",
    "# Determine the memory consumed by the mining algorithm\n",
    "print(\"Total Memory in RSS\", obj.getMemoryRSS())\n",
    "\n",
    "# Determine the total runtime consumed by the mining algorithm\n",
    "print(\"Total ExecutionTime in seconds:\", obj.getRuntime())"
   ]
  },
  {
   "cell_type": "markdown",
   "id": "54853b4e-9643-48bb-86ee-29df03c2b2ae",
   "metadata": {},
   "source": [
    "### Task 1 d)i) Write a Python code that read the frequentPatterns.txt file, identifies the longest pattern, and shows it on a plotly express open street map."
   ]
  },
  {
   "cell_type": "code",
   "execution_count": 63,
   "id": "3c17eb25-240a-4c56-9a7b-7efe458c3373",
   "metadata": {},
   "outputs": [
    {
     "data": {
      "application/vnd.plotly.v1+json": {
       "config": {
        "plotlyServerURL": "https://plot.ly"
       },
       "data": [
        {
         "hovertemplate": "lat=%{lat}<br>lon=%{lon}<extra></extra>",
         "lat": [
          33.8492794,
          33.8415709,
          33.8884275
         ],
         "legendgroup": "",
         "lon": [
          132.7586032,
          132.7273863,
          132.7326196
         ],
         "marker": {
          "color": "#636efa"
         },
         "mode": "markers",
         "name": "",
         "showlegend": false,
         "subplot": "mapbox",
         "type": "scattermapbox"
        }
       ],
       "layout": {
        "autosize": true,
        "legend": {
         "tracegroupgap": 0
        },
        "mapbox": {
         "center": {
          "lat": 33.859759266666664,
          "lon": 132.73953636666667
         },
         "domain": {
          "x": [
           0,
           1
          ],
          "y": [
           0,
           1
          ]
         },
         "style": "open-street-map",
         "zoom": 10
        },
        "margin": {
         "t": 60
        },
        "template": {
         "data": {
          "bar": [
           {
            "error_x": {
             "color": "#2a3f5f"
            },
            "error_y": {
             "color": "#2a3f5f"
            },
            "marker": {
             "line": {
              "color": "#E5ECF6",
              "width": 0.5
             },
             "pattern": {
              "fillmode": "overlay",
              "size": 10,
              "solidity": 0.2
             }
            },
            "type": "bar"
           }
          ],
          "barpolar": [
           {
            "marker": {
             "line": {
              "color": "#E5ECF6",
              "width": 0.5
             },
             "pattern": {
              "fillmode": "overlay",
              "size": 10,
              "solidity": 0.2
             }
            },
            "type": "barpolar"
           }
          ],
          "carpet": [
           {
            "aaxis": {
             "endlinecolor": "#2a3f5f",
             "gridcolor": "white",
             "linecolor": "white",
             "minorgridcolor": "white",
             "startlinecolor": "#2a3f5f"
            },
            "baxis": {
             "endlinecolor": "#2a3f5f",
             "gridcolor": "white",
             "linecolor": "white",
             "minorgridcolor": "white",
             "startlinecolor": "#2a3f5f"
            },
            "type": "carpet"
           }
          ],
          "choropleth": [
           {
            "colorbar": {
             "outlinewidth": 0,
             "ticks": ""
            },
            "type": "choropleth"
           }
          ],
          "contour": [
           {
            "colorbar": {
             "outlinewidth": 0,
             "ticks": ""
            },
            "colorscale": [
             [
              0,
              "#0d0887"
             ],
             [
              0.1111111111111111,
              "#46039f"
             ],
             [
              0.2222222222222222,
              "#7201a8"
             ],
             [
              0.3333333333333333,
              "#9c179e"
             ],
             [
              0.4444444444444444,
              "#bd3786"
             ],
             [
              0.5555555555555556,
              "#d8576b"
             ],
             [
              0.6666666666666666,
              "#ed7953"
             ],
             [
              0.7777777777777778,
              "#fb9f3a"
             ],
             [
              0.8888888888888888,
              "#fdca26"
             ],
             [
              1,
              "#f0f921"
             ]
            ],
            "type": "contour"
           }
          ],
          "contourcarpet": [
           {
            "colorbar": {
             "outlinewidth": 0,
             "ticks": ""
            },
            "type": "contourcarpet"
           }
          ],
          "heatmap": [
           {
            "colorbar": {
             "outlinewidth": 0,
             "ticks": ""
            },
            "colorscale": [
             [
              0,
              "#0d0887"
             ],
             [
              0.1111111111111111,
              "#46039f"
             ],
             [
              0.2222222222222222,
              "#7201a8"
             ],
             [
              0.3333333333333333,
              "#9c179e"
             ],
             [
              0.4444444444444444,
              "#bd3786"
             ],
             [
              0.5555555555555556,
              "#d8576b"
             ],
             [
              0.6666666666666666,
              "#ed7953"
             ],
             [
              0.7777777777777778,
              "#fb9f3a"
             ],
             [
              0.8888888888888888,
              "#fdca26"
             ],
             [
              1,
              "#f0f921"
             ]
            ],
            "type": "heatmap"
           }
          ],
          "heatmapgl": [
           {
            "colorbar": {
             "outlinewidth": 0,
             "ticks": ""
            },
            "colorscale": [
             [
              0,
              "#0d0887"
             ],
             [
              0.1111111111111111,
              "#46039f"
             ],
             [
              0.2222222222222222,
              "#7201a8"
             ],
             [
              0.3333333333333333,
              "#9c179e"
             ],
             [
              0.4444444444444444,
              "#bd3786"
             ],
             [
              0.5555555555555556,
              "#d8576b"
             ],
             [
              0.6666666666666666,
              "#ed7953"
             ],
             [
              0.7777777777777778,
              "#fb9f3a"
             ],
             [
              0.8888888888888888,
              "#fdca26"
             ],
             [
              1,
              "#f0f921"
             ]
            ],
            "type": "heatmapgl"
           }
          ],
          "histogram": [
           {
            "marker": {
             "pattern": {
              "fillmode": "overlay",
              "size": 10,
              "solidity": 0.2
             }
            },
            "type": "histogram"
           }
          ],
          "histogram2d": [
           {
            "colorbar": {
             "outlinewidth": 0,
             "ticks": ""
            },
            "colorscale": [
             [
              0,
              "#0d0887"
             ],
             [
              0.1111111111111111,
              "#46039f"
             ],
             [
              0.2222222222222222,
              "#7201a8"
             ],
             [
              0.3333333333333333,
              "#9c179e"
             ],
             [
              0.4444444444444444,
              "#bd3786"
             ],
             [
              0.5555555555555556,
              "#d8576b"
             ],
             [
              0.6666666666666666,
              "#ed7953"
             ],
             [
              0.7777777777777778,
              "#fb9f3a"
             ],
             [
              0.8888888888888888,
              "#fdca26"
             ],
             [
              1,
              "#f0f921"
             ]
            ],
            "type": "histogram2d"
           }
          ],
          "histogram2dcontour": [
           {
            "colorbar": {
             "outlinewidth": 0,
             "ticks": ""
            },
            "colorscale": [
             [
              0,
              "#0d0887"
             ],
             [
              0.1111111111111111,
              "#46039f"
             ],
             [
              0.2222222222222222,
              "#7201a8"
             ],
             [
              0.3333333333333333,
              "#9c179e"
             ],
             [
              0.4444444444444444,
              "#bd3786"
             ],
             [
              0.5555555555555556,
              "#d8576b"
             ],
             [
              0.6666666666666666,
              "#ed7953"
             ],
             [
              0.7777777777777778,
              "#fb9f3a"
             ],
             [
              0.8888888888888888,
              "#fdca26"
             ],
             [
              1,
              "#f0f921"
             ]
            ],
            "type": "histogram2dcontour"
           }
          ],
          "mesh3d": [
           {
            "colorbar": {
             "outlinewidth": 0,
             "ticks": ""
            },
            "type": "mesh3d"
           }
          ],
          "parcoords": [
           {
            "line": {
             "colorbar": {
              "outlinewidth": 0,
              "ticks": ""
             }
            },
            "type": "parcoords"
           }
          ],
          "pie": [
           {
            "automargin": true,
            "type": "pie"
           }
          ],
          "scatter": [
           {
            "fillpattern": {
             "fillmode": "overlay",
             "size": 10,
             "solidity": 0.2
            },
            "type": "scatter"
           }
          ],
          "scatter3d": [
           {
            "line": {
             "colorbar": {
              "outlinewidth": 0,
              "ticks": ""
             }
            },
            "marker": {
             "colorbar": {
              "outlinewidth": 0,
              "ticks": ""
             }
            },
            "type": "scatter3d"
           }
          ],
          "scattercarpet": [
           {
            "marker": {
             "colorbar": {
              "outlinewidth": 0,
              "ticks": ""
             }
            },
            "type": "scattercarpet"
           }
          ],
          "scattergeo": [
           {
            "marker": {
             "colorbar": {
              "outlinewidth": 0,
              "ticks": ""
             }
            },
            "type": "scattergeo"
           }
          ],
          "scattergl": [
           {
            "marker": {
             "colorbar": {
              "outlinewidth": 0,
              "ticks": ""
             }
            },
            "type": "scattergl"
           }
          ],
          "scattermapbox": [
           {
            "marker": {
             "colorbar": {
              "outlinewidth": 0,
              "ticks": ""
             }
            },
            "type": "scattermapbox"
           }
          ],
          "scatterpolar": [
           {
            "marker": {
             "colorbar": {
              "outlinewidth": 0,
              "ticks": ""
             }
            },
            "type": "scatterpolar"
           }
          ],
          "scatterpolargl": [
           {
            "marker": {
             "colorbar": {
              "outlinewidth": 0,
              "ticks": ""
             }
            },
            "type": "scatterpolargl"
           }
          ],
          "scatterternary": [
           {
            "marker": {
             "colorbar": {
              "outlinewidth": 0,
              "ticks": ""
             }
            },
            "type": "scatterternary"
           }
          ],
          "surface": [
           {
            "colorbar": {
             "outlinewidth": 0,
             "ticks": ""
            },
            "colorscale": [
             [
              0,
              "#0d0887"
             ],
             [
              0.1111111111111111,
              "#46039f"
             ],
             [
              0.2222222222222222,
              "#7201a8"
             ],
             [
              0.3333333333333333,
              "#9c179e"
             ],
             [
              0.4444444444444444,
              "#bd3786"
             ],
             [
              0.5555555555555556,
              "#d8576b"
             ],
             [
              0.6666666666666666,
              "#ed7953"
             ],
             [
              0.7777777777777778,
              "#fb9f3a"
             ],
             [
              0.8888888888888888,
              "#fdca26"
             ],
             [
              1,
              "#f0f921"
             ]
            ],
            "type": "surface"
           }
          ],
          "table": [
           {
            "cells": {
             "fill": {
              "color": "#EBF0F8"
             },
             "line": {
              "color": "white"
             }
            },
            "header": {
             "fill": {
              "color": "#C8D4E3"
             },
             "line": {
              "color": "white"
             }
            },
            "type": "table"
           }
          ]
         },
         "layout": {
          "annotationdefaults": {
           "arrowcolor": "#2a3f5f",
           "arrowhead": 0,
           "arrowwidth": 1
          },
          "autotypenumbers": "strict",
          "coloraxis": {
           "colorbar": {
            "outlinewidth": 0,
            "ticks": ""
           }
          },
          "colorscale": {
           "diverging": [
            [
             0,
             "#8e0152"
            ],
            [
             0.1,
             "#c51b7d"
            ],
            [
             0.2,
             "#de77ae"
            ],
            [
             0.3,
             "#f1b6da"
            ],
            [
             0.4,
             "#fde0ef"
            ],
            [
             0.5,
             "#f7f7f7"
            ],
            [
             0.6,
             "#e6f5d0"
            ],
            [
             0.7,
             "#b8e186"
            ],
            [
             0.8,
             "#7fbc41"
            ],
            [
             0.9,
             "#4d9221"
            ],
            [
             1,
             "#276419"
            ]
           ],
           "sequential": [
            [
             0,
             "#0d0887"
            ],
            [
             0.1111111111111111,
             "#46039f"
            ],
            [
             0.2222222222222222,
             "#7201a8"
            ],
            [
             0.3333333333333333,
             "#9c179e"
            ],
            [
             0.4444444444444444,
             "#bd3786"
            ],
            [
             0.5555555555555556,
             "#d8576b"
            ],
            [
             0.6666666666666666,
             "#ed7953"
            ],
            [
             0.7777777777777778,
             "#fb9f3a"
            ],
            [
             0.8888888888888888,
             "#fdca26"
            ],
            [
             1,
             "#f0f921"
            ]
           ],
           "sequentialminus": [
            [
             0,
             "#0d0887"
            ],
            [
             0.1111111111111111,
             "#46039f"
            ],
            [
             0.2222222222222222,
             "#7201a8"
            ],
            [
             0.3333333333333333,
             "#9c179e"
            ],
            [
             0.4444444444444444,
             "#bd3786"
            ],
            [
             0.5555555555555556,
             "#d8576b"
            ],
            [
             0.6666666666666666,
             "#ed7953"
            ],
            [
             0.7777777777777778,
             "#fb9f3a"
            ],
            [
             0.8888888888888888,
             "#fdca26"
            ],
            [
             1,
             "#f0f921"
            ]
           ]
          },
          "colorway": [
           "#636efa",
           "#EF553B",
           "#00cc96",
           "#ab63fa",
           "#FFA15A",
           "#19d3f3",
           "#FF6692",
           "#B6E880",
           "#FF97FF",
           "#FECB52"
          ],
          "font": {
           "color": "#2a3f5f"
          },
          "geo": {
           "bgcolor": "white",
           "lakecolor": "white",
           "landcolor": "#E5ECF6",
           "showlakes": true,
           "showland": true,
           "subunitcolor": "white"
          },
          "hoverlabel": {
           "align": "left"
          },
          "hovermode": "closest",
          "mapbox": {
           "style": "light"
          },
          "paper_bgcolor": "white",
          "plot_bgcolor": "#E5ECF6",
          "polar": {
           "angularaxis": {
            "gridcolor": "white",
            "linecolor": "white",
            "ticks": ""
           },
           "bgcolor": "#E5ECF6",
           "radialaxis": {
            "gridcolor": "white",
            "linecolor": "white",
            "ticks": ""
           }
          },
          "scene": {
           "xaxis": {
            "backgroundcolor": "#E5ECF6",
            "gridcolor": "white",
            "gridwidth": 2,
            "linecolor": "white",
            "showbackground": true,
            "ticks": "",
            "zerolinecolor": "white"
           },
           "yaxis": {
            "backgroundcolor": "#E5ECF6",
            "gridcolor": "white",
            "gridwidth": 2,
            "linecolor": "white",
            "showbackground": true,
            "ticks": "",
            "zerolinecolor": "white"
           },
           "zaxis": {
            "backgroundcolor": "#E5ECF6",
            "gridcolor": "white",
            "gridwidth": 2,
            "linecolor": "white",
            "showbackground": true,
            "ticks": "",
            "zerolinecolor": "white"
           }
          },
          "shapedefaults": {
           "line": {
            "color": "#2a3f5f"
           }
          },
          "ternary": {
           "aaxis": {
            "gridcolor": "white",
            "linecolor": "white",
            "ticks": ""
           },
           "baxis": {
            "gridcolor": "white",
            "linecolor": "white",
            "ticks": ""
           },
           "bgcolor": "#E5ECF6",
           "caxis": {
            "gridcolor": "white",
            "linecolor": "white",
            "ticks": ""
           }
          },
          "title": {
           "x": 0.05
          },
          "xaxis": {
           "automargin": true,
           "gridcolor": "white",
           "linecolor": "white",
           "ticks": "",
           "title": {
            "standoff": 15
           },
           "zerolinecolor": "white",
           "zerolinewidth": 2
          },
          "yaxis": {
           "automargin": true,
           "gridcolor": "white",
           "linecolor": "white",
           "ticks": "",
           "title": {
            "standoff": 15
           },
           "zerolinecolor": "white",
           "zerolinewidth": 2
          }
         }
        }
       }
      },
      "image/png": "[encoded data removed]",
      "text/html": [
       "<div>                            <div id=\"32b503dd-9015-4f9b-895e-b974aaa3ed4d\" class=\"plotly-graph-div\" style=\"height:525px; width:100%;\"></div>            <script type=\"text/javascript\">                require([\"plotly\"], function(Plotly) {                    window.PLOTLYENV=window.PLOTLYENV || {};                                    if (document.getElementById(\"32b503dd-9015-4f9b-895e-b974aaa3ed4d\")) {                    Plotly.newPlot(                        \"32b503dd-9015-4f9b-895e-b974aaa3ed4d\",                        [{\"hovertemplate\":\"lat=%{lat}<br>lon=%{lon}<extra></extra>\",\"lat\":[33.8492794,33.8415709,33.8884275],\"legendgroup\":\"\",\"lon\":[132.7586032,132.7273863,132.7326196],\"marker\":{\"color\":\"#636efa\"},\"mode\":\"markers\",\"name\":\"\",\"showlegend\":false,\"subplot\":\"mapbox\",\"type\":\"scattermapbox\"}],                        {\"template\":{\"data\":{\"histogram2dcontour\":[{\"type\":\"histogram2dcontour\",\"colorbar\":{\"outlinewidth\":0,\"ticks\":\"\"},\"colorscale\":[[0.0,\"#0d0887\"],[0.1111111111111111,\"#46039f\"],[0.2222222222222222,\"#7201a8\"],[0.3333333333333333,\"#9c179e\"],[0.4444444444444444,\"#bd3786\"],[0.5555555555555556,\"#d8576b\"],[0.6666666666666666,\"#ed7953\"],[0.7777777777777778,\"#fb9f3a\"],[0.8888888888888888,\"#fdca26\"],[1.0,\"#f0f921\"]]}],\"choropleth\":[{\"type\":\"choropleth\",\"colorbar\":{\"outlinewidth\":0,\"ticks\":\"\"}}],\"histogram2d\":[{\"type\":\"histogram2d\",\"colorbar\":{\"outlinewidth\":0,\"ticks\":\"\"},\"colorscale\":[[0.0,\"#0d0887\"],[0.1111111111111111,\"#46039f\"],[0.2222222222222222,\"#7201a8\"],[0.3333333333333333,\"#9c179e\"],[0.4444444444444444,\"#bd3786\"],[0.5555555555555556,\"#d8576b\"],[0.6666666666666666,\"#ed7953\"],[0.7777777777777778,\"#fb9f3a\"],[0.8888888888888888,\"#fdca26\"],[1.0,\"#f0f921\"]]}],\"heatmap\":[{\"type\":\"heatmap\",\"colorbar\":{\"outlinewidth\":0,\"ticks\":\"\"},\"colorscale\":[[0.0,\"#0d0887\"],[0.1111111111111111,\"#46039f\"],[0.2222222222222222,\"#7201a8\"],[0.3333333333333333,\"#9c179e\"],[0.4444444444444444,\"#bd3786\"],[0.5555555555555556,\"#d8576b\"],[0.6666666666666666,\"#ed7953\"],[0.7777777777777778,\"#fb9f3a\"],[0.8888888888888888,\"#fdca26\"],[1.0,\"#f0f921\"]]}],\"heatmapgl\":[{\"type\":\"heatmapgl\",\"colorbar\":{\"outlinewidth\":0,\"ticks\":\"\"},\"colorscale\":[[0.0,\"#0d0887\"],[0.1111111111111111,\"#46039f\"],[0.2222222222222222,\"#7201a8\"],[0.3333333333333333,\"#9c179e\"],[0.4444444444444444,\"#bd3786\"],[0.5555555555555556,\"#d8576b\"],[0.6666666666666666,\"#ed7953\"],[0.7777777777777778,\"#fb9f3a\"],[0.8888888888888888,\"#fdca26\"],[1.0,\"#f0f921\"]]}],\"contourcarpet\":[{\"type\":\"contourcarpet\",\"colorbar\":{\"outlinewidth\":0,\"ticks\":\"\"}}],\"contour\":[{\"type\":\"contour\",\"colorbar\":{\"outlinewidth\":0,\"ticks\":\"\"},\"colorscale\":[[0.0,\"#0d0887\"],[0.1111111111111111,\"#46039f\"],[0.2222222222222222,\"#7201a8\"],[0.3333333333333333,\"#9c179e\"],[0.4444444444444444,\"#bd3786\"],[0.5555555555555556,\"#d8576b\"],[0.6666666666666666,\"#ed7953\"],[0.7777777777777778,\"#fb9f3a\"],[0.8888888888888888,\"#fdca26\"],[1.0,\"#f0f921\"]]}],\"surface\":[{\"type\":\"surface\",\"colorbar\":{\"outlinewidth\":0,\"ticks\":\"\"},\"colorscale\":[[0.0,\"#0d0887\"],[0.1111111111111111,\"#46039f\"],[0.2222222222222222,\"#7201a8\"],[0.3333333333333333,\"#9c179e\"],[0.4444444444444444,\"#bd3786\"],[0.5555555555555556,\"#d8576b\"],[0.6666666666666666,\"#ed7953\"],[0.7777777777777778,\"#fb9f3a\"],[0.8888888888888888,\"#fdca26\"],[1.0,\"#f0f921\"]]}],\"mesh3d\":[{\"type\":\"mesh3d\",\"colorbar\":{\"outlinewidth\":0,\"ticks\":\"\"}}],\"scatter\":[{\"fillpattern\":{\"fillmode\":\"overlay\",\"size\":10,\"solidity\":0.2},\"type\":\"scatter\"}],\"parcoords\":[{\"type\":\"parcoords\",\"line\":{\"colorbar\":{\"outlinewidth\":0,\"ticks\":\"\"}}}],\"scatterpolargl\":[{\"type\":\"scatterpolargl\",\"marker\":{\"colorbar\":{\"outlinewidth\":0,\"ticks\":\"\"}}}],\"bar\":[{\"error_x\":{\"color\":\"#2a3f5f\"},\"error_y\":{\"color\":\"#2a3f5f\"},\"marker\":{\"line\":{\"color\":\"#E5ECF6\",\"width\":0.5},\"pattern\":{\"fillmode\":\"overlay\",\"size\":10,\"solidity\":0.2}},\"type\":\"bar\"}],\"scattergeo\":[{\"type\":\"scattergeo\",\"marker\":{\"colorbar\":{\"outlinewidth\":0,\"ticks\":\"\"}}}],\"scatterpolar\":[{\"type\":\"scatterpolar\",\"marker\":{\"colorbar\":{\"outlinewidth\":0,\"ticks\":\"\"}}}],\"histogram\":[{\"marker\":{\"pattern\":{\"fillmode\":\"overlay\",\"size\":10,\"solidity\":0.2}},\"type\":\"histogram\"}],\"scattergl\":[{\"type\":\"scattergl\",\"marker\":{\"colorbar\":{\"outlinewidth\":0,\"ticks\":\"\"}}}],\"scatter3d\":[{\"type\":\"scatter3d\",\"line\":{\"colorbar\":{\"outlinewidth\":0,\"ticks\":\"\"}},\"marker\":{\"colorbar\":{\"outlinewidth\":0,\"ticks\":\"\"}}}],\"scattermapbox\":[{\"type\":\"scattermapbox\",\"marker\":{\"colorbar\":{\"outlinewidth\":0,\"ticks\":\"\"}}}],\"scatterternary\":[{\"type\":\"scatterternary\",\"marker\":{\"colorbar\":{\"outlinewidth\":0,\"ticks\":\"\"}}}],\"scattercarpet\":[{\"type\":\"scattercarpet\",\"marker\":{\"colorbar\":{\"outlinewidth\":0,\"ticks\":\"\"}}}],\"carpet\":[{\"aaxis\":{\"endlinecolor\":\"#2a3f5f\",\"gridcolor\":\"white\",\"linecolor\":\"white\",\"minorgridcolor\":\"white\",\"startlinecolor\":\"#2a3f5f\"},\"baxis\":{\"endlinecolor\":\"#2a3f5f\",\"gridcolor\":\"white\",\"linecolor\":\"white\",\"minorgridcolor\":\"white\",\"startlinecolor\":\"#2a3f5f\"},\"type\":\"carpet\"}],\"table\":[{\"cells\":{\"fill\":{\"color\":\"#EBF0F8\"},\"line\":{\"color\":\"white\"}},\"header\":{\"fill\":{\"color\":\"#C8D4E3\"},\"line\":{\"color\":\"white\"}},\"type\":\"table\"}],\"barpolar\":[{\"marker\":{\"line\":{\"color\":\"#E5ECF6\",\"width\":0.5},\"pattern\":{\"fillmode\":\"overlay\",\"size\":10,\"solidity\":0.2}},\"type\":\"barpolar\"}],\"pie\":[{\"automargin\":true,\"type\":\"pie\"}]},\"layout\":{\"autotypenumbers\":\"strict\",\"colorway\":[\"#636efa\",\"#EF553B\",\"#00cc96\",\"#ab63fa\",\"#FFA15A\",\"#19d3f3\",\"#FF6692\",\"#B6E880\",\"#FF97FF\",\"#FECB52\"],\"font\":{\"color\":\"#2a3f5f\"},\"hovermode\":\"closest\",\"hoverlabel\":{\"align\":\"left\"},\"paper_bgcolor\":\"white\",\"plot_bgcolor\":\"#E5ECF6\",\"polar\":{\"bgcolor\":\"#E5ECF6\",\"angularaxis\":{\"gridcolor\":\"white\",\"linecolor\":\"white\",\"ticks\":\"\"},\"radialaxis\":{\"gridcolor\":\"white\",\"linecolor\":\"white\",\"ticks\":\"\"}},\"ternary\":{\"bgcolor\":\"#E5ECF6\",\"aaxis\":{\"gridcolor\":\"white\",\"linecolor\":\"white\",\"ticks\":\"\"},\"baxis\":{\"gridcolor\":\"white\",\"linecolor\":\"white\",\"ticks\":\"\"},\"caxis\":{\"gridcolor\":\"white\",\"linecolor\":\"white\",\"ticks\":\"\"}},\"coloraxis\":{\"colorbar\":{\"outlinewidth\":0,\"ticks\":\"\"}},\"colorscale\":{\"sequential\":[[0.0,\"#0d0887\"],[0.1111111111111111,\"#46039f\"],[0.2222222222222222,\"#7201a8\"],[0.3333333333333333,\"#9c179e\"],[0.4444444444444444,\"#bd3786\"],[0.5555555555555556,\"#d8576b\"],[0.6666666666666666,\"#ed7953\"],[0.7777777777777778,\"#fb9f3a\"],[0.8888888888888888,\"#fdca26\"],[1.0,\"#f0f921\"]],\"sequentialminus\":[[0.0,\"#0d0887\"],[0.1111111111111111,\"#46039f\"],[0.2222222222222222,\"#7201a8\"],[0.3333333333333333,\"#9c179e\"],[0.4444444444444444,\"#bd3786\"],[0.5555555555555556,\"#d8576b\"],[0.6666666666666666,\"#ed7953\"],[0.7777777777777778,\"#fb9f3a\"],[0.8888888888888888,\"#fdca26\"],[1.0,\"#f0f921\"]],\"diverging\":[[0,\"#8e0152\"],[0.1,\"#c51b7d\"],[0.2,\"#de77ae\"],[0.3,\"#f1b6da\"],[0.4,\"#fde0ef\"],[0.5,\"#f7f7f7\"],[0.6,\"#e6f5d0\"],[0.7,\"#b8e186\"],[0.8,\"#7fbc41\"],[0.9,\"#4d9221\"],[1,\"#276419\"]]},\"xaxis\":{\"gridcolor\":\"white\",\"linecolor\":\"white\",\"ticks\":\"\",\"title\":{\"standoff\":15},\"zerolinecolor\":\"white\",\"automargin\":true,\"zerolinewidth\":2},\"yaxis\":{\"gridcolor\":\"white\",\"linecolor\":\"white\",\"ticks\":\"\",\"title\":{\"standoff\":15},\"zerolinecolor\":\"white\",\"automargin\":true,\"zerolinewidth\":2},\"scene\":{\"xaxis\":{\"backgroundcolor\":\"#E5ECF6\",\"gridcolor\":\"white\",\"linecolor\":\"white\",\"showbackground\":true,\"ticks\":\"\",\"zerolinecolor\":\"white\",\"gridwidth\":2},\"yaxis\":{\"backgroundcolor\":\"#E5ECF6\",\"gridcolor\":\"white\",\"linecolor\":\"white\",\"showbackground\":true,\"ticks\":\"\",\"zerolinecolor\":\"white\",\"gridwidth\":2},\"zaxis\":{\"backgroundcolor\":\"#E5ECF6\",\"gridcolor\":\"white\",\"linecolor\":\"white\",\"showbackground\":true,\"ticks\":\"\",\"zerolinecolor\":\"white\",\"gridwidth\":2}},\"shapedefaults\":{\"line\":{\"color\":\"#2a3f5f\"}},\"annotationdefaults\":{\"arrowcolor\":\"#2a3f5f\",\"arrowhead\":0,\"arrowwidth\":1},\"geo\":{\"bgcolor\":\"white\",\"landcolor\":\"#E5ECF6\",\"subunitcolor\":\"white\",\"showland\":true,\"showlakes\":true,\"lakecolor\":\"white\"},\"title\":{\"x\":0.05},\"mapbox\":{\"style\":\"light\"}}},\"mapbox\":{\"domain\":{\"x\":[0.0,1.0],\"y\":[0.0,1.0]},\"center\":{\"lat\":33.859759266666664,\"lon\":132.73953636666667},\"zoom\":10,\"style\":\"open-street-map\"},\"legend\":{\"tracegroupgap\":0},\"margin\":{\"t\":60}},                        {\"responsive\": true}                    ).then(function(){\n",
       "                            \n",
       "var gd = document.getElementById('32b503dd-9015-4f9b-895e-b974aaa3ed4d');\n",
       "var x = new MutationObserver(function (mutations, observer) {{\n",
       "        var display = window.getComputedStyle(gd).display;\n",
       "        if (!display || display === 'none') {{\n",
       "            console.log([gd, 'removed!']);\n",
       "            Plotly.purge(gd);\n",
       "            observer.disconnect();\n",
       "        }}\n",
       "}});\n",
       "\n",
       "// Listen for the removal of the full notebook cells\n",
       "var notebookContainer = gd.closest('#notebook-container');\n",
       "if (notebookContainer) {{\n",
       "    x.observe(notebookContainer, {childList: true});\n",
       "}}\n",
       "\n",
       "// Listen for the clearing of the current output cell\n",
       "var outputEl = gd.closest('.output');\n",
       "if (outputEl) {{\n",
       "    x.observe(outputEl, {childList: true});\n",
       "}}\n",
       "\n",
       "                        })                };                });            </script>        </div>"
      ]
     },
     "metadata": {},
     "output_type": "display_data"
    }
   ],
   "source": [
    "import re\n",
    "import plotly.express as px\n",
    "\n",
    "\n",
    "# list to store longtitudes and latitudes in the file\n",
    "patterns = []\n",
    "\n",
    "# read frequentPatterns.txt file\n",
    "with open(\"frequentPatterns.txt\") as f:\n",
    "    # store all (lon, lat) from each row in the file to list\n",
    "    for line in f:\n",
    "        pattern = re.findall(r'POINT\\((\\d+\\.\\d+) (\\d+\\.\\d+)\\)', line)\n",
    "        patterns.append(pattern)\n",
    "\n",
    "# extract the longest pattern\n",
    "longest_pattern = max(patterns, key=len)\n",
    "\n",
    "\n",
    "# store latitudes and longtitudes from the longest pattern\n",
    "latitudes = []\n",
    "longtitudes = []\n",
    "for lon, lat in longest_pattern:\n",
    "    latitudes.append(float(lat))\n",
    "    longtitudes.append(float(lon))\n",
    "\n",
    "\n",
    "# plot the longest pattern on the map\n",
    "fig = px.scatter_mapbox(lat = latitudes, \n",
    "                        lon = longtitudes, \n",
    "                        zoom = 10)\n",
    "fig.update_layout(mapbox_style=\"open-street-map\")\n",
    "fig.show()\n",
    "\n"
   ]
  },
  {
   "cell_type": "code",
   "execution_count": null,
   "id": "fd02dbd7-f0d6-4ec5-88c5-10715fc7f5fa",
   "metadata": {},
   "outputs": [],
   "source": []
  }
 ],
 "metadata": {
  "kernelspec": {
   "display_name": "Python 3 (ipykernel)",
   "language": "python",
   "name": "python3"
  },
  "language_info": {
   "codemirror_mode": {
    "name": "ipython",
    "version": 3
   },
   "file_extension": ".py",
   "mimetype": "text/x-python",
   "name": "python",
   "nbconvert_exporter": "python",
   "pygments_lexer": "ipython3",
   "version": "3.10.4"
  }
 },
 "nbformat": 4,
 "nbformat_minor": 5
}
